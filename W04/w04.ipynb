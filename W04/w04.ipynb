{
 "cells": [
  {
   "cell_type": "code",
   "execution_count": 90,
   "metadata": {},
   "outputs": [
    {
     "data": {
      "text/plain": [
       "'c:\\\\Users\\\\PYC\\\\Desktop\\\\DEV\\\\112-2_bigdata\\\\W04'"
      ]
     },
     "execution_count": 90,
     "metadata": {},
     "output_type": "execute_result"
    }
   ],
   "source": [
    "import os\n",
    "os.getcwd()"
   ]
  },
  {
   "cell_type": "code",
   "execution_count": 91,
   "metadata": {},
   "outputs": [
    {
     "data": {
      "text/html": [
       "<div>\n",
       "<style scoped>\n",
       "    .dataframe tbody tr th:only-of-type {\n",
       "        vertical-align: middle;\n",
       "    }\n",
       "\n",
       "    .dataframe tbody tr th {\n",
       "        vertical-align: top;\n",
       "    }\n",
       "\n",
       "    .dataframe thead th {\n",
       "        text-align: right;\n",
       "    }\n",
       "</style>\n",
       "<table border=\"1\" class=\"dataframe\">\n",
       "  <thead>\n",
       "    <tr style=\"text-align: right;\">\n",
       "      <th></th>\n",
       "      <th>地標ID</th>\n",
       "      <th>地標名稱</th>\n",
       "      <th>累積打卡數</th>\n",
       "      <th>latitude</th>\n",
       "      <th>longitude</th>\n",
       "      <th>類別</th>\n",
       "      <th>地區</th>\n",
       "    </tr>\n",
       "  </thead>\n",
       "  <tbody>\n",
       "    <tr>\n",
       "      <th>0</th>\n",
       "      <td>164103576936475</td>\n",
       "      <td>Taiwan Taoyuan International Airport</td>\n",
       "      <td>711761</td>\n",
       "      <td>25.076389</td>\n",
       "      <td>121.223889</td>\n",
       "      <td>機場</td>\n",
       "      <td>桃園縣</td>\n",
       "    </tr>\n",
       "    <tr>\n",
       "      <th>1</th>\n",
       "      <td>1393970400817450</td>\n",
       "      <td>臺灣桃園國際機場第二航廈</td>\n",
       "      <td>411525</td>\n",
       "      <td>25.077949</td>\n",
       "      <td>121.232405</td>\n",
       "      <td>機場</td>\n",
       "      <td>桃園縣</td>\n",
       "    </tr>\n",
       "    <tr>\n",
       "      <th>2</th>\n",
       "      <td>159730407378429</td>\n",
       "      <td>Taipei Railway Station</td>\n",
       "      <td>391239</td>\n",
       "      <td>25.047769</td>\n",
       "      <td>121.517109</td>\n",
       "      <td>車站</td>\n",
       "      <td>台北市</td>\n",
       "    </tr>\n",
       "    <tr>\n",
       "      <th>3</th>\n",
       "      <td>162736400406103</td>\n",
       "      <td>Shilin Night Market</td>\n",
       "      <td>385886</td>\n",
       "      <td>25.088073</td>\n",
       "      <td>121.525044</td>\n",
       "      <td>觀光夜市</td>\n",
       "      <td>台北市</td>\n",
       "    </tr>\n",
       "    <tr>\n",
       "      <th>4</th>\n",
       "      <td>125435810861333</td>\n",
       "      <td>花園夜市</td>\n",
       "      <td>351568</td>\n",
       "      <td>23.010570</td>\n",
       "      <td>120.199785</td>\n",
       "      <td>觀光夜市</td>\n",
       "      <td>台南市</td>\n",
       "    </tr>\n",
       "    <tr>\n",
       "      <th>...</th>\n",
       "      <td>...</td>\n",
       "      <td>...</td>\n",
       "      <td>...</td>\n",
       "      <td>...</td>\n",
       "      <td>...</td>\n",
       "      <td>...</td>\n",
       "      <td>...</td>\n",
       "    </tr>\n",
       "    <tr>\n",
       "      <th>995</th>\n",
       "      <td>183364761700661</td>\n",
       "      <td>亞運保齡球館</td>\n",
       "      <td>15331</td>\n",
       "      <td>24.953810</td>\n",
       "      <td>121.260255</td>\n",
       "      <td>體育場/運動中心</td>\n",
       "      <td>桃園縣</td>\n",
       "    </tr>\n",
       "    <tr>\n",
       "      <th>996</th>\n",
       "      <td>196517257038264</td>\n",
       "      <td>台北火車站</td>\n",
       "      <td>15330</td>\n",
       "      <td>25.062309</td>\n",
       "      <td>121.519505</td>\n",
       "      <td>車站</td>\n",
       "      <td>台北市</td>\n",
       "    </tr>\n",
       "    <tr>\n",
       "      <th>997</th>\n",
       "      <td>190824237614716</td>\n",
       "      <td>台北市立第二殯儀館</td>\n",
       "      <td>15318</td>\n",
       "      <td>25.013344</td>\n",
       "      <td>121.552826</td>\n",
       "      <td>其他</td>\n",
       "      <td>台北市</td>\n",
       "    </tr>\n",
       "    <tr>\n",
       "      <th>998</th>\n",
       "      <td>183471931687138</td>\n",
       "      <td>炸蛋蔥油餅</td>\n",
       "      <td>15307</td>\n",
       "      <td>23.982602</td>\n",
       "      <td>121.606029</td>\n",
       "      <td>餐飲</td>\n",
       "      <td>花蓮縣</td>\n",
       "    </tr>\n",
       "    <tr>\n",
       "      <th>999</th>\n",
       "      <td>193948277283180</td>\n",
       "      <td>後壁湖遊艇港</td>\n",
       "      <td>15301</td>\n",
       "      <td>21.945043</td>\n",
       "      <td>120.743781</td>\n",
       "      <td>港口/碼頭</td>\n",
       "      <td>屏東縣</td>\n",
       "    </tr>\n",
       "  </tbody>\n",
       "</table>\n",
       "<p>1000 rows × 7 columns</p>\n",
       "</div>"
      ],
      "text/plain": [
       "                 地標ID                                  地標名稱   累積打卡數  \\\n",
       "0     164103576936475  Taiwan Taoyuan International Airport  711761   \n",
       "1    1393970400817450                          臺灣桃園國際機場第二航廈  411525   \n",
       "2     159730407378429                Taipei Railway Station  391239   \n",
       "3     162736400406103                   Shilin Night Market  385886   \n",
       "4     125435810861333                                  花園夜市  351568   \n",
       "..                ...                                   ...     ...   \n",
       "995   183364761700661                                亞運保齡球館   15331   \n",
       "996   196517257038264                                 台北火車站   15330   \n",
       "997   190824237614716                             台北市立第二殯儀館   15318   \n",
       "998   183471931687138                                 炸蛋蔥油餅   15307   \n",
       "999   193948277283180                                後壁湖遊艇港   15301   \n",
       "\n",
       "      latitude   longitude        類別   地區  \n",
       "0    25.076389  121.223889        機場  桃園縣  \n",
       "1    25.077949  121.232405        機場  桃園縣  \n",
       "2    25.047769  121.517109        車站  台北市  \n",
       "3    25.088073  121.525044      觀光夜市  台北市  \n",
       "4    23.010570  120.199785      觀光夜市  台南市  \n",
       "..         ...         ...       ...  ...  \n",
       "995  24.953810  121.260255  體育場/運動中心  桃園縣  \n",
       "996  25.062309  121.519505        車站  台北市  \n",
       "997  25.013344  121.552826        其他  台北市  \n",
       "998  23.982602  121.606029        餐飲  花蓮縣  \n",
       "999  21.945043  120.743781     港口/碼頭  屏東縣  \n",
       "\n",
       "[1000 rows x 7 columns]"
      ]
     },
     "execution_count": 91,
     "metadata": {},
     "output_type": "execute_result"
    }
   ],
   "source": [
    "import pandas as pd\n",
    "\n",
    "fb = pd.read_excel('../data/fb.xls', skiprows=1)\n",
    "fb"
   ]
  },
  {
   "cell_type": "code",
   "execution_count": 92,
   "metadata": {},
   "outputs": [
    {
     "data": {
      "text/plain": [
       "pandas.core.frame.DataFrame"
      ]
     },
     "execution_count": 92,
     "metadata": {},
     "output_type": "execute_result"
    }
   ],
   "source": [
    "type(fb)"
   ]
  },
  {
   "cell_type": "code",
   "execution_count": 93,
   "metadata": {},
   "outputs": [
    {
     "data": {
      "text/plain": [
       "['cumsum', 'describe', 'diff', 'div', 'divide']"
      ]
     },
     "execution_count": 93,
     "metadata": {},
     "output_type": "execute_result"
    }
   ],
   "source": [
    "dir(fb)[-175:-170]"
   ]
  },
  {
   "cell_type": "code",
   "execution_count": 94,
   "metadata": {},
   "outputs": [
    {
     "data": {
      "text/plain": [
       "地標ID           int64\n",
       "地標名稱          object\n",
       "累積打卡數          int64\n",
       "latitude     float64\n",
       "longitude    float64\n",
       "類別            object\n",
       "地區            object\n",
       "dtype: object"
      ]
     },
     "execution_count": 94,
     "metadata": {},
     "output_type": "execute_result"
    }
   ],
   "source": [
    "fb.dtypes"
   ]
  },
  {
   "cell_type": "code",
   "execution_count": 95,
   "metadata": {},
   "outputs": [
    {
     "data": {
      "text/plain": [
       "0      Taiwan Taoyuan International Airport\n",
       "1                              臺灣桃園國際機場第二航廈\n",
       "2                    Taipei Railway Station\n",
       "3                       Shilin Night Market\n",
       "4                                      花園夜市\n",
       "                       ...                 \n",
       "995                                  亞運保齡球館\n",
       "996                                   台北火車站\n",
       "997                               台北市立第二殯儀館\n",
       "998                                   炸蛋蔥油餅\n",
       "999                                  後壁湖遊艇港\n",
       "Name: 地標名稱, Length: 1000, dtype: object"
      ]
     },
     "execution_count": 95,
     "metadata": {},
     "output_type": "execute_result"
    }
   ],
   "source": [
    "fb['地標名稱']"
   ]
  },
  {
   "cell_type": "code",
   "execution_count": 96,
   "metadata": {},
   "outputs": [
    {
     "data": {
      "text/html": [
       "<div>\n",
       "<style scoped>\n",
       "    .dataframe tbody tr th:only-of-type {\n",
       "        vertical-align: middle;\n",
       "    }\n",
       "\n",
       "    .dataframe tbody tr th {\n",
       "        vertical-align: top;\n",
       "    }\n",
       "\n",
       "    .dataframe thead th {\n",
       "        text-align: right;\n",
       "    }\n",
       "</style>\n",
       "<table border=\"1\" class=\"dataframe\">\n",
       "  <thead>\n",
       "    <tr style=\"text-align: right;\">\n",
       "      <th></th>\n",
       "      <th>地標名稱</th>\n",
       "    </tr>\n",
       "  </thead>\n",
       "  <tbody>\n",
       "    <tr>\n",
       "      <th>0</th>\n",
       "      <td>Taiwan Taoyuan International Airport</td>\n",
       "    </tr>\n",
       "    <tr>\n",
       "      <th>1</th>\n",
       "      <td>臺灣桃園國際機場第二航廈</td>\n",
       "    </tr>\n",
       "    <tr>\n",
       "      <th>2</th>\n",
       "      <td>Taipei Railway Station</td>\n",
       "    </tr>\n",
       "    <tr>\n",
       "      <th>3</th>\n",
       "      <td>Shilin Night Market</td>\n",
       "    </tr>\n",
       "    <tr>\n",
       "      <th>4</th>\n",
       "      <td>花園夜市</td>\n",
       "    </tr>\n",
       "    <tr>\n",
       "      <th>...</th>\n",
       "      <td>...</td>\n",
       "    </tr>\n",
       "    <tr>\n",
       "      <th>995</th>\n",
       "      <td>亞運保齡球館</td>\n",
       "    </tr>\n",
       "    <tr>\n",
       "      <th>996</th>\n",
       "      <td>台北火車站</td>\n",
       "    </tr>\n",
       "    <tr>\n",
       "      <th>997</th>\n",
       "      <td>台北市立第二殯儀館</td>\n",
       "    </tr>\n",
       "    <tr>\n",
       "      <th>998</th>\n",
       "      <td>炸蛋蔥油餅</td>\n",
       "    </tr>\n",
       "    <tr>\n",
       "      <th>999</th>\n",
       "      <td>後壁湖遊艇港</td>\n",
       "    </tr>\n",
       "  </tbody>\n",
       "</table>\n",
       "<p>1000 rows × 1 columns</p>\n",
       "</div>"
      ],
      "text/plain": [
       "                                     地標名稱\n",
       "0    Taiwan Taoyuan International Airport\n",
       "1                            臺灣桃園國際機場第二航廈\n",
       "2                  Taipei Railway Station\n",
       "3                     Shilin Night Market\n",
       "4                                    花園夜市\n",
       "..                                    ...\n",
       "995                                亞運保齡球館\n",
       "996                                 台北火車站\n",
       "997                             台北市立第二殯儀館\n",
       "998                                 炸蛋蔥油餅\n",
       "999                                後壁湖遊艇港\n",
       "\n",
       "[1000 rows x 1 columns]"
      ]
     },
     "execution_count": 96,
     "metadata": {},
     "output_type": "execute_result"
    }
   ],
   "source": [
    "fb[['地標名稱']]"
   ]
  },
  {
   "cell_type": "code",
   "execution_count": 97,
   "metadata": {},
   "outputs": [
    {
     "data": {
      "text/plain": [
       "0      Taiwan Taoyuan International Airport\n",
       "1                              臺灣桃園國際機場第二航廈\n",
       "2                    Taipei Railway Station\n",
       "3                       Shilin Night Market\n",
       "4                                      花園夜市\n",
       "                       ...                 \n",
       "995                                  亞運保齡球館\n",
       "996                                   台北火車站\n",
       "997                               台北市立第二殯儀館\n",
       "998                                   炸蛋蔥油餅\n",
       "999                                  後壁湖遊艇港\n",
       "Name: 地標名稱, Length: 1000, dtype: object"
      ]
     },
     "execution_count": 97,
     "metadata": {},
     "output_type": "execute_result"
    }
   ],
   "source": [
    "fb.地標名稱"
   ]
  },
  {
   "cell_type": "code",
   "execution_count": 98,
   "metadata": {},
   "outputs": [
    {
     "data": {
      "text/html": [
       "<div>\n",
       "<style scoped>\n",
       "    .dataframe tbody tr th:only-of-type {\n",
       "        vertical-align: middle;\n",
       "    }\n",
       "\n",
       "    .dataframe tbody tr th {\n",
       "        vertical-align: top;\n",
       "    }\n",
       "\n",
       "    .dataframe thead th {\n",
       "        text-align: right;\n",
       "    }\n",
       "</style>\n",
       "<table border=\"1\" class=\"dataframe\">\n",
       "  <thead>\n",
       "    <tr style=\"text-align: right;\">\n",
       "      <th></th>\n",
       "      <th>color</th>\n",
       "      <th>size</th>\n",
       "      <th>price</th>\n",
       "      <th>classlabel</th>\n",
       "    </tr>\n",
       "  </thead>\n",
       "  <tbody>\n",
       "    <tr>\n",
       "      <th>0</th>\n",
       "      <td>green</td>\n",
       "      <td>m</td>\n",
       "      <td>10.1</td>\n",
       "      <td>class1</td>\n",
       "    </tr>\n",
       "    <tr>\n",
       "      <th>1</th>\n",
       "      <td>red</td>\n",
       "      <td>l</td>\n",
       "      <td>13.5</td>\n",
       "      <td>class2</td>\n",
       "    </tr>\n",
       "    <tr>\n",
       "      <th>2</th>\n",
       "      <td>blue</td>\n",
       "      <td>xl</td>\n",
       "      <td>15.3</td>\n",
       "      <td>class1</td>\n",
       "    </tr>\n",
       "  </tbody>\n",
       "</table>\n",
       "</div>"
      ],
      "text/plain": [
       "   color size  price classlabel\n",
       "0  green    m   10.1     class1\n",
       "1    red    l   13.5     class2\n",
       "2   blue   xl   15.3     class1"
      ]
     },
     "execution_count": 98,
     "metadata": {},
     "output_type": "execute_result"
    }
   ],
   "source": [
    "df = pd.DataFrame([['green', 'm', 10.1, 'class1'], ['red', 'l', 13.5, 'class2'], ['blue', 'xl', 15.3, 'class1']])\n",
    "df.columns=['color', 'size', 'price', 'classlabel']\n",
    "df"
   ]
  },
  {
   "cell_type": "code",
   "execution_count": 99,
   "metadata": {},
   "outputs": [
    {
     "data": {
      "text/html": [
       "<div>\n",
       "<style scoped>\n",
       "    .dataframe tbody tr th:only-of-type {\n",
       "        vertical-align: middle;\n",
       "    }\n",
       "\n",
       "    .dataframe tbody tr th {\n",
       "        vertical-align: top;\n",
       "    }\n",
       "\n",
       "    .dataframe thead th {\n",
       "        text-align: right;\n",
       "    }\n",
       "</style>\n",
       "<table border=\"1\" class=\"dataframe\">\n",
       "  <thead>\n",
       "    <tr style=\"text-align: right;\">\n",
       "      <th></th>\n",
       "      <th>color</th>\n",
       "      <th>size</th>\n",
       "      <th>price</th>\n",
       "      <th>classlabel</th>\n",
       "    </tr>\n",
       "  </thead>\n",
       "  <tbody>\n",
       "    <tr>\n",
       "      <th>0</th>\n",
       "      <td>green</td>\n",
       "      <td>1</td>\n",
       "      <td>10.1</td>\n",
       "      <td>class1</td>\n",
       "    </tr>\n",
       "    <tr>\n",
       "      <th>1</th>\n",
       "      <td>red</td>\n",
       "      <td>2</td>\n",
       "      <td>13.5</td>\n",
       "      <td>class2</td>\n",
       "    </tr>\n",
       "    <tr>\n",
       "      <th>2</th>\n",
       "      <td>blue</td>\n",
       "      <td>3</td>\n",
       "      <td>15.3</td>\n",
       "      <td>class1</td>\n",
       "    </tr>\n",
       "  </tbody>\n",
       "</table>\n",
       "</div>"
      ],
      "text/plain": [
       "   color  size  price classlabel\n",
       "0  green     1   10.1     class1\n",
       "1    red     2   13.5     class2\n",
       "2   blue     3   15.3     class1"
      ]
     },
     "execution_count": 99,
     "metadata": {},
     "output_type": "execute_result"
    }
   ],
   "source": [
    "size_mapping = {'xl': 3, 'l': 2, 'm': 1}\n",
    "df['size'] = df['size'].map(size_mapping)\n",
    "df"
   ]
  },
  {
   "cell_type": "code",
   "execution_count": 101,
   "metadata": {},
   "outputs": [
    {
     "data": {
      "text/plain": [
       "array([0, 1, 0])"
      ]
     },
     "execution_count": 101,
     "metadata": {},
     "output_type": "execute_result"
    }
   ],
   "source": [
    "from sklearn.preprocessing import LabelEncoder\n",
    "class_le = LabelEncoder()\n",
    "y = class_le.fit_transform(df['classlabel'])\n",
    "y\n"
   ]
  },
  {
   "cell_type": "code",
   "execution_count": 103,
   "metadata": {},
   "outputs": [
    {
     "name": "stderr",
     "output_type": "stream",
     "text": [
      "d:\\anaconda3\\envs\\bigdata\\lib\\site-packages\\sklearn\\preprocessing\\_label.py:154: DataConversionWarning: A column-vector y was passed when a 1d array was expected. Please change the shape of y to (n_samples, ), for example using ravel().\n",
      "  y = column_or_1d(y, warn=True)\n"
     ]
    },
    {
     "data": {
      "text/plain": [
       "array(['class1', 'class2', 'class1'], dtype=object)"
      ]
     },
     "execution_count": 103,
     "metadata": {},
     "output_type": "execute_result"
    },
    {
     "ename": "",
     "evalue": "",
     "output_type": "error",
     "traceback": [
      "\u001b[1;31mThe Kernel crashed while executing code in the current cell or a previous cell. \n",
      "\u001b[1;31mPlease review the code in the cell(s) to identify a possible cause of the failure. \n",
      "\u001b[1;31mClick <a href='https://aka.ms/vscodeJupyterKernelCrash'>here</a> for more info. \n",
      "\u001b[1;31mView Jupyter <a href='command:jupyter.viewOutput'>log</a> for further details."
     ]
    }
   ],
   "source": [
    "class_le.inverse_transform(y.reshape(-1, 1))"
   ]
  }
 ],
 "metadata": {
  "kernelspec": {
   "display_name": "bigdata",
   "language": "python",
   "name": "python3"
  },
  "language_info": {
   "codemirror_mode": {
    "name": "ipython",
    "version": 3
   },
   "file_extension": ".py",
   "mimetype": "text/x-python",
   "name": "python",
   "nbconvert_exporter": "python",
   "pygments_lexer": "ipython3",
   "version": "3.8.18"
  }
 },
 "nbformat": 4,
 "nbformat_minor": 2
}
