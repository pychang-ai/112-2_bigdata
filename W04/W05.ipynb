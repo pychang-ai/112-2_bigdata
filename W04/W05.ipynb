{
 "cells": [
  {
   "cell_type": "code",
   "execution_count": 21,
   "metadata": {},
   "outputs": [
    {
     "name": "stdout",
     "output_type": "stream",
     "text": [
      "   color size  price classlabel\n",
      "0  green    M   10.1     class1\n",
      "1    red    L   13.5     class2\n",
      "2   blue   XL   15.3     class1\n",
      "   color  size  price classlabel\n",
      "0  green     1   10.1     class1\n",
      "1    red     2   13.5     class2\n",
      "2   blue     3   15.3     class1\n",
      "[0 1 0]\n",
      "['class1' 'class2' 'class1']\n",
      "[0 1 0]\n",
      "[[0]\n",
      " [1]\n",
      " [0]]\n",
      "[['green' 1 10.1]\n",
      " ['red' 2 13.5]\n",
      " ['blue' 3 15.3]]\n",
      "[[1 1 10.1]\n",
      " [2 2 13.5]\n",
      " [0 3 15.3]]\n"
     ]
    },
    {
     "name": "stderr",
     "output_type": "stream",
     "text": [
      "d:\\anaconda3\\envs\\bigdata\\lib\\site-packages\\sklearn\\preprocessing\\_label.py:154: DataConversionWarning: A column-vector y was passed when a 1d array was expected. Please change the shape of y to (n_samples, ), for example using ravel().\n",
      "  y = column_or_1d(y, warn=True)\n"
     ]
    }
   ],
   "source": [
    "### 1.4.3 Python語言類別變數編碼\n",
    "## ------------------------------------------------------------------------\n",
    "import pandas as pd\n",
    "# 以原生資料結構巢狀串列建構pandas 資料框\n",
    "df = pd.DataFrame([['green', 'M', 10.1, 'class1'], ['red',\n",
    "'L', 13.5, 'class2'], ['blue', 'XL', 15.3, 'class1']])\n",
    "# 設定資料框欄位名稱\n",
    "df.columns = ['color', 'size', 'price', 'classlabel']\n",
    "print(df)\n",
    "\n",
    "## ------------------------------------------------------------------------\n",
    "# 定義編碼規則字典\n",
    "size_mapping = {'XL': 3, 'L': 2, 'M': 1}\n",
    "# 序列map() 方法完成編碼，並更新size 變數\n",
    "df['size'] = df['size'].map(size_mapping)\n",
    "print(df)\n",
    "\n",
    "## ------------------------------------------------------------------------\n",
    "# 載入類別\n",
    "from sklearn.preprocessing import LabelEncoder\n",
    "# 創建(或稱實作) 類別物件class_le\n",
    "class_le = LabelEncoder()\n",
    "# 傳入類別變數進行配適與轉換\n",
    "y = class_le.fit_transform(df['classlabel'])\n",
    "# 標籤編碼完成(對應整數值預設從0 開始)\n",
    "print(y)\n",
    "# y = LabelEncoder().fit_transform(df['classlabel'])\n",
    "## ------------------------------------------------------------------------\n",
    "# 逆轉換回原類別值\n",
    "print(class_le.inverse_transform(y.reshape(-1, 1)))\n",
    "# 注意下面兩個資料物件內涵相同，但維度不同！前一維，後二維\n",
    "print(y)\n",
    "print(y.reshape(-1, 1))\n",
    "\n",
    "## ------------------------------------------------------------------------\n",
    "# 取出欲編碼欄位，轉成ndarray(欄位名稱會遺失)\n",
    "X = df[['color', 'size', 'price']].values\n",
    "print(X)\n",
    "# 先進行color 欄位標籤編碼，因為單熱編碼不能有object！(sklearn 0.22.2 以前舊版本的限制，0.22.2 以後(含)新版本無須先進行標籤編碼！)\n",
    "color_le = LabelEncoder()\n",
    "X[:, 0] = color_le.fit_transform(X[:, 0])\n",
    "# color 標籤編碼已完成\n",
    "print(X)\n"
   ]
  },
  {
   "cell_type": "code",
   "execution_count": 22,
   "metadata": {},
   "outputs": [
    {
     "name": "stdout",
     "output_type": "stream",
     "text": [
      "[[0. 1. 0. 1. 0.]\n",
      " [0. 0. 1. 0. 1.]\n",
      " [1. 0. 0. 1. 0.]]\n",
      "[[ 0.   1.   0.   1.   0.   1.  10.1]\n",
      " [ 0.   0.   1.   0.   1.   2.  13.5]\n",
      " [ 1.   0.   0.   1.   0.   3.  15.3]]\n"
     ]
    }
   ],
   "source": [
    "import numpy as np\n",
    "## ------------------------------------------------------------------------\n",
    "# 載入單熱編碼類別\n",
    "from sklearn.preprocessing import OneHotEncoder\n",
    "# 宣告類別物件ohe\n",
    "#* ohe = OneHotEncoder(categorical_features=[0]) #  sklearn 0.22.2 以前的用法！\n",
    "ohe = OneHotEncoder()\n",
    "# 照預設編碼完後轉為常規矩陣\n",
    "#* print(ohe.fit_transform(X).toarray())\n",
    "print(ohe.fit_transform(df.iloc[:,[0,3]]).toarray()) # 單獨挑選待編碼欄位\n",
    "print(np.hstack((ohe.fit_transform(df.iloc[:,[0,3]]).toarray(), df.iloc[:,1:3].values))) # 須將兩numpy ndarray用值組 tuple 組織起來\n",
    "# 或者可設定sparse 引數為False 傳回常規矩陣\n",
    "# ohe=OneHotEncoder(categorical_features=[0], sparse=False)\n",
    "# print(ohe.fit_transform(X))"
   ]
  },
  {
   "cell_type": "code",
   "execution_count": 23,
   "metadata": {},
   "outputs": [],
   "source": [
    "class LinearRegressionGD(object):\n",
    "    # 定義物件初始化方法，物件初始化時帶有兩個屬性\n",
    "    def __init__(self, eta=0.001, n_iter=20):\n",
    "        self.eta = eta  # 設定學習速率(eta)\n",
    "        self.n_iter = n_iter  # 設定迭代次數(n_iter)\n",
    "\n",
    "    # 定義物件的方法fit()，此方法會根據傳入的X 與y 計算屬性\n",
    "    # w_ 和cost_\n",
    "    def fit(self, X, y):\n",
    "        # 隨機初始化屬性w_\n",
    "        self.w_ = np.random.randn(1 + X.shape[1])  # 初始化權重(w_)，其中包含了截距(intercept)\n",
    "        # 損失函數屬性cost_\n",
    "        self.cost_ = []  # 初始化成本(cost_)列表\n",
    "        # 根據物件屬性eta 與n_iter，以及傳入的X 與y 計算屬性\n",
    "        # w_ 和cost_\n",
    "        for i in range(self.n_iter):  # 進行n_iter次迭代\n",
    "            output = self.lin_comb(X)  # 計算線性組合結果(output)\n",
    "            errors = (y - output)  # 計算誤差(errors)\n",
    "            self.w_[1:] += self.eta * X.T.dot(errors)  # 更新權重(w_)，其中包含了特徵權重\n",
    "            self.w_[0] += self.eta * errors.sum()  # 更新截距(intercept)\n",
    "            cost = (errors**2).sum() / 2.0  # 計算成本(cost)，使用均方誤差函數\n",
    "            self.cost_.append(cost)  # 將成本(cost)加入成本列表(cost_)\n",
    "        return self  # 返回物件本身\n",
    "\n",
    "    # 定義fit 方法會用到的lin_comb 線性組合方法\n",
    "    def lin_comb(self, X):\n",
    "        return np.dot(X, self.w_[1:]) + self.w_[0]  # 計算線性組合結果\n",
    "\n",
    "    # 定義物件的方法predict()\n",
    "    def predict(self, X):\n",
    "        return self.lin_comb(X)  # 返回線性組合結果\n"
   ]
  },
  {
   "cell_type": "code",
   "execution_count": 24,
   "metadata": {},
   "outputs": [
    {
     "name": "stdout",
     "output_type": "stream",
     "text": [
      "['LinearRegressionGD']\n"
     ]
    }
   ],
   "source": [
    "# 此行敘述是Python 單列for 迴圈寫法，請參考1.8.2 節Python\n",
    "# 語言資料匯入及匯出的串列推導(list comprehension)\n",
    "print([name for name in dir() if name in\n",
    "[\"LinearRegressionGD\"]])\n",
    "# 模擬五十筆預測變數，使用numpy 常用函數linspace()\n"
   ]
  },
  {
   "cell_type": "code",
   "execution_count": 25,
   "metadata": {},
   "outputs": [
    {
     "name": "stdout",
     "output_type": "stream",
     "text": [
      "[0.         0.10204082 0.20408163 0.30612245]\n"
     ]
    }
   ],
   "source": [
    "X = np.linspace(0, 5, 50) # linspace(start, stop, num)\n",
    "print(X[:4]) # 前四筆模擬的預測變數\n"
   ]
  },
  {
   "cell_type": "code",
   "execution_count": 26,
   "metadata": {},
   "outputs": [
    {
     "name": "stdout",
     "output_type": "stream",
     "text": [
      "[55.06448028 55.10379372 56.36694544 57.57635171]\n"
     ]
    }
   ],
   "source": [
    "# 模擬五十筆反應變數，利用numpy.random 模組從標準常態分佈產生\n",
    "# 隨機亂數\n",
    "y = 7.7 * X + 55 + np.random.randn(50)\n",
    "print(y[:4])"
   ]
  }
 ],
 "metadata": {
  "kernelspec": {
   "display_name": "bigdata",
   "language": "python",
   "name": "python3"
  },
  "language_info": {
   "codemirror_mode": {
    "name": "ipython",
    "version": 3
   },
   "file_extension": ".py",
   "mimetype": "text/x-python",
   "name": "python",
   "nbconvert_exporter": "python",
   "pygments_lexer": "ipython3",
   "version": "3.8.18"
  }
 },
 "nbformat": 4,
 "nbformat_minor": 2
}
