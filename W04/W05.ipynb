{
 "cells": [
  {
   "cell_type": "code",
   "execution_count": 21,
   "metadata": {},
   "outputs": [
    {
     "name": "stdout",
     "output_type": "stream",
     "text": [
      "   color size  price classlabel\n",
      "0  green    M   10.1     class1\n",
      "1    red    L   13.5     class2\n",
      "2   blue   XL   15.3     class1\n",
      "   color  size  price classlabel\n",
      "0  green     1   10.1     class1\n",
      "1    red     2   13.5     class2\n",
      "2   blue     3   15.3     class1\n",
      "[0 1 0]\n",
      "['class1' 'class2' 'class1']\n",
      "[0 1 0]\n",
      "[[0]\n",
      " [1]\n",
      " [0]]\n",
      "[['green' 1 10.1]\n",
      " ['red' 2 13.5]\n",
      " ['blue' 3 15.3]]\n",
      "[[1 1 10.1]\n",
      " [2 2 13.5]\n",
      " [0 3 15.3]]\n"
     ]
    },
    {
     "name": "stderr",
     "output_type": "stream",
     "text": [
      "d:\\anaconda3\\envs\\bigdata\\lib\\site-packages\\sklearn\\preprocessing\\_label.py:154: DataConversionWarning: A column-vector y was passed when a 1d array was expected. Please change the shape of y to (n_samples, ), for example using ravel().\n",
      "  y = column_or_1d(y, warn=True)\n"
     ]
    }
   ],
   "source": [
    "### 1.4.3 Python語言類別變數編碼\n",
    "## ------------------------------------------------------------------------\n",
    "import pandas as pd\n",
    "# 以原生資料結構巢狀串列建構pandas 資料框\n",
    "df = pd.DataFrame([['green', 'M', 10.1, 'class1'], ['red',\n",
    "'L', 13.5, 'class2'], ['blue', 'XL', 15.3, 'class1']])\n",
    "# 設定資料框欄位名稱\n",
    "df.columns = ['color', 'size', 'price', 'classlabel']\n",
    "print(df)\n",
    "\n",
    "## ------------------------------------------------------------------------\n",
    "# 定義編碼規則字典\n",
    "size_mapping = {'XL': 3, 'L': 2, 'M': 1}\n",
    "# 序列map() 方法完成編碼，並更新size 變數\n",
    "df['size'] = df['size'].map(size_mapping)\n",
    "print(df)\n",
    "\n",
    "## ------------------------------------------------------------------------\n",
    "# 載入類別\n",
    "from sklearn.preprocessing import LabelEncoder\n",
    "# 創建(或稱實作) 類別物件class_le\n",
    "class_le = LabelEncoder()\n",
    "# 傳入類別變數進行配適與轉換\n",
    "y = class_le.fit_transform(df['classlabel'])\n",
    "# 標籤編碼完成(對應整數值預設從0 開始)\n",
    "print(y)\n",
    "# y = LabelEncoder().fit_transform(df['classlabel'])\n",
    "## ------------------------------------------------------------------------\n",
    "# 逆轉換回原類別值\n",
    "print(class_le.inverse_transform(y.reshape(-1, 1)))\n",
    "# 注意下面兩個資料物件內涵相同，但維度不同！前一維，後二維\n",
    "print(y)\n",
    "print(y.reshape(-1, 1))\n",
    "\n",
    "## ------------------------------------------------------------------------\n",
    "# 取出欲編碼欄位，轉成ndarray(欄位名稱會遺失)\n",
    "X = df[['color', 'size', 'price']].values\n",
    "print(X)\n",
    "# 先進行color 欄位標籤編碼，因為單熱編碼不能有object！(sklearn 0.22.2 以前舊版本的限制，0.22.2 以後(含)新版本無須先進行標籤編碼！)\n",
    "color_le = LabelEncoder()\n",
    "X[:, 0] = color_le.fit_transform(X[:, 0])\n",
    "# color 標籤編碼已完成\n",
    "print(X)\n"
   ]
  },
  {
   "cell_type": "code",
   "execution_count": 22,
   "metadata": {},
   "outputs": [
    {
     "name": "stdout",
     "output_type": "stream",
     "text": [
      "[[0. 1. 0. 1. 0.]\n",
      " [0. 0. 1. 0. 1.]\n",
      " [1. 0. 0. 1. 0.]]\n",
      "[[ 0.   1.   0.   1.   0.   1.  10.1]\n",
      " [ 0.   0.   1.   0.   1.   2.  13.5]\n",
      " [ 1.   0.   0.   1.   0.   3.  15.3]]\n"
     ]
    }
   ],
   "source": [
    "import numpy as np\n",
    "## ------------------------------------------------------------------------\n",
    "# 載入單熱編碼類別\n",
    "from sklearn.preprocessing import OneHotEncoder\n",
    "# 宣告類別物件ohe\n",
    "#* ohe = OneHotEncoder(categorical_features=[0]) #  sklearn 0.22.2 以前的用法！\n",
    "ohe = OneHotEncoder()\n",
    "# 照預設編碼完後轉為常規矩陣\n",
    "#* print(ohe.fit_transform(X).toarray())\n",
    "print(ohe.fit_transform(df.iloc[:,[0,3]]).toarray()) # 單獨挑選待編碼欄位\n",
    "print(np.hstack((ohe.fit_transform(df.iloc[:,[0,3]]).toarray(), df.iloc[:,1:3].values))) # 須將兩numpy ndarray用值組 tuple 組織起來\n",
    "# 或者可設定sparse 引數為False 傳回常規矩陣\n",
    "# ohe=OneHotEncoder(categorical_features=[0], sparse=False)\n",
    "# print(ohe.fit_transform(X))"
   ]
  },
  {
   "cell_type": "code",
   "execution_count": 23,
   "metadata": {},
   "outputs": [],
   "source": [
    "class LinearRegressionGD(object):\n",
    "    # 定義物件初始化方法，物件初始化時帶有兩個屬性\n",
    "    def __init__(self, eta=0.001, n_iter=20):\n",
    "        self.eta = eta  # 設定學習速率(eta)\n",
    "        self.n_iter = n_iter  # 設定迭代次數(n_iter)\n",
    "\n",
    "    # 定義物件的方法fit()，此方法會根據傳入的X 與y 計算屬性\n",
    "    # w_ 和cost_\n",
    "    def fit(self, X, y):\n",
    "        # 隨機初始化屬性w_\n",
    "        self.w_ = np.random.randn(1 + X.shape[1])  # 初始化權重(w_)，其中包含了截距(intercept)\n",
    "        # 損失函數屬性cost_\n",
    "        self.cost_ = []  # 初始化成本(cost_)列表\n",
    "        # 根據物件屬性eta 與n_iter，以及傳入的X 與y 計算屬性\n",
    "        # w_ 和cost_\n",
    "        for i in range(self.n_iter):  # 進行n_iter次迭代\n",
    "            output = self.lin_comb(X)  # 計算線性組合結果(output)\n",
    "            errors = (y - output)  # 計算誤差(errors)\n",
    "            self.w_[1:] += self.eta * X.T.dot(errors)  # 更新權重(w_)，其中包含了特徵權重\n",
    "            self.w_[0] += self.eta * errors.sum()  # 更新截距(intercept)\n",
    "            cost = (errors**2).sum() / 2.0  # 計算成本(cost)，使用均方誤差函數\n",
    "            self.cost_.append(cost)  # 將成本(cost)加入成本列表(cost_)\n",
    "        return self  # 返回物件本身\n",
    "\n",
    "    # 定義fit 方法會用到的lin_comb 線性組合方法\n",
    "    def lin_comb(self, X):\n",
    "        return np.dot(X, self.w_[1:]) + self.w_[0]  # 計算線性組合結果\n",
    "\n",
    "    # 定義物件的方法predict()\n",
    "    def predict(self, X):\n",
    "        return self.lin_comb(X)  # 返回線性組合結果\n"
   ]
  },
  {
   "cell_type": "code",
   "execution_count": 24,
   "metadata": {},
   "outputs": [
    {
     "name": "stdout",
     "output_type": "stream",
     "text": [
      "['LinearRegressionGD']\n"
     ]
    }
   ],
   "source": [
    "# 此行敘述是Python 單列for 迴圈寫法，請參考1.8.2 節Python\n",
    "# 語言資料匯入及匯出的串列推導(list comprehension)\n",
    "print([name for name in dir() if name in\n",
    "[\"LinearRegressionGD\"]])\n",
    "# 模擬五十筆預測變數，使用numpy 常用函數linspace()\n"
   ]
  },
  {
   "cell_type": "code",
   "execution_count": 25,
   "metadata": {},
   "outputs": [
    {
     "name": "stdout",
     "output_type": "stream",
     "text": [
      "[0.         0.10204082 0.20408163 0.30612245]\n"
     ]
    }
   ],
   "source": [
    "X = np.linspace(0, 5, 50) # linspace(start, stop, num)\n",
    "print(X[:4]) # 前四筆模擬的預測變數\n"
   ]
  },
  {
   "cell_type": "code",
   "execution_count": 26,
   "metadata": {},
   "outputs": [
    {
     "name": "stdout",
     "output_type": "stream",
     "text": [
      "[55.06448028 55.10379372 56.36694544 57.57635171]\n"
     ]
    }
   ],
   "source": [
    "# 模擬五十筆反應變數，利用numpy.random 模組從標準常態分佈產生\n",
    "# 隨機亂數\n",
    "y = 7.7 * X + 55 + np.random.randn(50)\n",
    "print(y[:4])"
   ]
  },
  {
   "cell_type": "code",
   "execution_count": 27,
   "metadata": {},
   "outputs": [
    {
     "data": {
      "text/plain": [
       "['In',\n",
       " 'LabelEncoder',\n",
       " 'LinearRegressionGD',\n",
       " 'OneHotEncoder',\n",
       " 'Out',\n",
       " 'X',\n",
       " '_',\n",
       " '__',\n",
       " '___',\n",
       " '__builtin__',\n",
       " '__builtins__',\n",
       " '__doc__',\n",
       " '__loader__',\n",
       " '__name__',\n",
       " '__package__',\n",
       " '__spec__',\n",
       " '__vsc_ipynb_file__',\n",
       " '_dh',\n",
       " '_i',\n",
       " '_i1',\n",
       " '_i10',\n",
       " '_i11',\n",
       " '_i12',\n",
       " '_i13',\n",
       " '_i14',\n",
       " '_i15',\n",
       " '_i16',\n",
       " '_i17',\n",
       " '_i18',\n",
       " '_i19',\n",
       " '_i2',\n",
       " '_i20',\n",
       " '_i21',\n",
       " '_i22',\n",
       " '_i23',\n",
       " '_i24',\n",
       " '_i25',\n",
       " '_i26',\n",
       " '_i27',\n",
       " '_i3',\n",
       " '_i4',\n",
       " '_i5',\n",
       " '_i6',\n",
       " '_i7',\n",
       " '_i8',\n",
       " '_i9',\n",
       " '_ih',\n",
       " '_ii',\n",
       " '_iii',\n",
       " '_oh',\n",
       " 'class_le',\n",
       " 'color_le',\n",
       " 'df',\n",
       " 'exit',\n",
       " 'get_ipython',\n",
       " 'np',\n",
       " 'ohe',\n",
       " 'open',\n",
       " 'pd',\n",
       " 'quit',\n",
       " 'size_mapping',\n",
       " 'y']"
      ]
     },
     "execution_count": 27,
     "metadata": {},
     "output_type": "execute_result"
    }
   ],
   "source": [
    "dir()"
   ]
  },
  {
   "cell_type": "code",
   "execution_count": 28,
   "metadata": {},
   "outputs": [],
   "source": [
    "# 實作LinearRegressionGD 類物件lr\n",
    "lr = LinearRegressionGD(n_iter=350)\n",
    "# 創建後配適前有eta, n_iter, fit(), lin_comb() 與predict()\n",
    "# print(dir(lr))"
   ]
  },
  {
   "cell_type": "code",
   "execution_count": 29,
   "metadata": {},
   "outputs": [
    {
     "name": "stdout",
     "output_type": "stream",
     "text": [
      "False\n",
      "False\n"
     ]
    }
   ],
   "source": [
    "for tmp in [\"w_\", \"cost_\"]:\n",
    "    print(tmp in dir(lr))"
   ]
  },
  {
   "cell_type": "code",
   "execution_count": 30,
   "metadata": {},
   "outputs": [
    {
     "name": "stdout",
     "output_type": "stream",
     "text": [
      "350\n"
     ]
    }
   ],
   "source": [
    "# 確認預設迭代次數已變更為350\n",
    "print(lr.n_iter)\n"
   ]
  },
  {
   "cell_type": "code",
   "execution_count": 32,
   "metadata": {},
   "outputs": [
    {
     "name": "stdout",
     "output_type": "stream",
     "text": [
      "True\n",
      "True\n"
     ]
    }
   ],
   "source": [
    "# 傳入單行二維矩陣X 與一維向量y，以梯度陡降法計算係數\n",
    "lr.fit(X.reshape(-1,1), y)\n",
    "# 配適完畢後新增加w_ 與cost_ 屬性\n",
    "for tmp in [\"w_\", \"cost_\"]:\n",
    "    print(tmp in dir(lr))\n"
   ]
  },
  {
   "cell_type": "code",
   "execution_count": 34,
   "metadata": {},
   "outputs": [
    {
     "name": "stdout",
     "output_type": "stream",
     "text": [
      "[54.02466357  7.96585263]\n"
     ]
    }
   ],
   "source": [
    "# 截距與斜率係數\n",
    "print(lr.w_)\n"
   ]
  },
  {
   "cell_type": "code",
   "execution_count": 35,
   "metadata": {},
   "outputs": [
    {
     "name": "stdout",
     "output_type": "stream",
     "text": [
      "[22.530364611859532, 22.440612603341382, 22.35296756237815]\n"
     ]
    }
   ],
   "source": [
    "# 最後三代的損失函數值，隨著代數增加而降低\n",
    "print(lr.cost_[-3:])\n"
   ]
  },
  {
   "cell_type": "code",
   "execution_count": 37,
   "metadata": {},
   "outputs": [
    {
     "name": "stdout",
     "output_type": "stream",
     "text": [
      "69.95636882939417\n"
     ]
    }
   ],
   "source": [
    "# 預測X_new 的y 值\n",
    "X_new = np.array([2])\n",
    "print(lr.predict(X_new))"
   ]
  },
  {
   "cell_type": "code",
   "execution_count": 38,
   "metadata": {},
   "outputs": [
    {
     "data": {
      "text/plain": [
       "[<matplotlib.lines.Line2D at 0x26cdfc4a610>]"
      ]
     },
     "execution_count": 38,
     "metadata": {},
     "output_type": "execute_result"
    },
    {
     "data": {
      "image/png": "[encoded data removed]",
      "text/plain": [
       "<Figure size 640x480 with 1 Axes>"
      ]
     },
     "metadata": {},
     "output_type": "display_data"
    }
   ],
   "source": [
    "# X 與y 散佈圖及LinearRegressionGD 配適的線性迴歸直線\n",
    "# Python 繪圖語法參見4.1 節資料視覺化\n",
    "import matplotlib.pyplot as plt\n",
    "fig = plt.figure()\n",
    "ax = fig.add_subplot(111)\n",
    "ax.scatter(X, y)\n",
    "ax.plot(X, lr.predict(X.reshape(-1,1)), color='red',\n",
    "linewidth=2)"
   ]
  },
  {
   "cell_type": "code",
   "execution_count": 46,
   "metadata": {},
   "outputs": [],
   "source": [
    "### 1.8.2 Python語言資料匯入及匯出\n",
    "## ------------------------------------------------------------------------\n",
    "data_dir = \"../data/\"\n",
    "# Python 空字串的join() 方法，類似R 語言的paste0() 函數\n",
    "fname = ''.join([data_dir, \"letterdata.csv\"])\n"
   ]
  },
  {
   "cell_type": "code",
   "execution_count": 47,
   "metadata": {},
   "outputs": [
    {
     "name": "stdout",
     "output_type": "stream",
     "text": [
      "['readable', 'readline', 'readlines', 'reconfigure', 'seek']\n"
     ]
    }
   ],
   "source": [
    "## ------------------------------------------------------------------------\n",
    "# mode 引數預設為'r' 讀取模式\n",
    "f = open(fname)\n",
    "# 有read() 方法\n",
    "print(dir(f)[49:54])"
   ]
  },
  {
   "cell_type": "code",
   "execution_count": 48,
   "metadata": {},
   "outputs": [
    {
     "name": "stdout",
     "output_type": "stream",
     "text": [
      "<class 'str'>\n"
     ]
    }
   ],
   "source": [
    "data = f.read()\n",
    "# 記得關閉檔案連結\n",
    "f.close()\n",
    "# data 為str 類型物件\n",
    "print(type(data))"
   ]
  },
  {
   "cell_type": "code",
   "execution_count": 50,
   "metadata": {},
   "outputs": [
    {
     "name": "stdout",
     "output_type": "stream",
     "text": [
      "712669\n"
     ]
    }
   ],
   "source": [
    "# 類別為str 的data 有712669 個字符\n",
    "print(len(data))"
   ]
  },
  {
   "cell_type": "code",
   "execution_count": 51,
   "metadata": {},
   "outputs": [],
   "source": [
    "# split() 方法依換行符號\"\\n\" 將data 切成多個樣本的lines\n",
    "lines = data.split(\"\\n\")"
   ]
  },
  {
   "cell_type": "code",
   "execution_count": 52,
   "metadata": {},
   "outputs": [
    {
     "name": "stdout",
     "output_type": "stream",
     "text": [
      "<class 'list'>\n"
     ]
    }
   ],
   "source": [
    "# lines 類型為串列\n",
    "print(type(lines))"
   ]
  },
  {
   "cell_type": "code",
   "execution_count": 53,
   "metadata": {},
   "outputs": [
    {
     "name": "stdout",
     "output_type": "stream",
     "text": [
      "letter,xbox,ybox,width,height,onpix\n"
     ]
    }
   ],
   "source": [
    "# 檢視第一列發現：一橫列一元素，元素內逗號分隔開各欄位名稱\n",
    "# Python 串列取值冒號運算子，前包後不包\n",
    "print(lines[0][:35])"
   ]
  },
  {
   "cell_type": "code",
   "execution_count": 54,
   "metadata": {},
   "outputs": [
    {
     "name": "stdout",
     "output_type": "stream",
     "text": [
      "['letter', 'xbox', 'ybox', 'width', 'height', 'onpix']\n"
     ]
    }
   ],
   "source": [
    "# 再次以split() 方法依逗號切出首列中的各欄名稱\n",
    "header = lines[0].split(',')\n",
    "print(header[:6])"
   ]
  },
  {
   "cell_type": "code",
   "execution_count": 55,
   "metadata": {},
   "outputs": [
    {
     "name": "stdout",
     "output_type": "stream",
     "text": [
      "20002\n"
     ]
    }
   ],
   "source": [
    "## ------------------------------------------------------------------------\n",
    "# 20002 筆\n",
    "print(len(lines))"
   ]
  },
  {
   "cell_type": "code",
   "execution_count": 56,
   "metadata": {},
   "outputs": [
    {
     "name": "stdout",
     "output_type": "stream",
     "text": [
      "['A,4,9,6,6,2,9,5,3,1,8,1,8,2,7,2,8', '']\n"
     ]
    }
   ],
   "source": [
    "# 注意最末空字串\n",
    "print(lines[20000:])"
   ]
  },
  {
   "cell_type": "code",
   "execution_count": 57,
   "metadata": {},
   "outputs": [],
   "source": [
    "# 排除首列欄位名稱與末列空字串\n",
    "lines = lines[1:20001]"
   ]
  },
  {
   "cell_type": "code",
   "execution_count": 58,
   "metadata": {},
   "outputs": [
    {
     "name": "stdout",
     "output_type": "stream",
     "text": [
      "['T,2,8,3,5,1,8,13,0,6,6,10,8,0,8,0,8']\n"
     ]
    }
   ],
   "source": [
    "# 第一筆觀測值\n",
    "print(lines[:1])"
   ]
  },
  {
   "cell_type": "code",
   "execution_count": 59,
   "metadata": {},
   "outputs": [
    {
     "name": "stdout",
     "output_type": "stream",
     "text": [
      "20000\n"
     ]
    }
   ],
   "source": [
    "# 共兩萬筆觀測值\n",
    "print(len(lines))"
   ]
  },
  {
   "cell_type": "code",
   "execution_count": 60,
   "metadata": {},
   "outputs": [],
   "source": [
    "import numpy as np\n",
    "# 宣告numpy 二維字符矩陣(20000, 17)\n",
    "data = np.chararray((len(lines), len(header)))"
   ]
  },
  {
   "cell_type": "code",
   "execution_count": 61,
   "metadata": {},
   "outputs": [
    {
     "name": "stdout",
     "output_type": "stream",
     "text": [
      "(20000, 17)\n"
     ]
    }
   ],
   "source": [
    "print(data.shape)\n",
    "# 以enumerate() 同時抓取觀測值編號與觀測值\n",
    "for i, line in enumerate(lines):\n",
    "    # 串列推導list comprehension，併入data 的第i 列\n",
    "    data[i, :] = [x for x in line.split(',')]\n"
   ]
  },
  {
   "cell_type": "code",
   "execution_count": 62,
   "metadata": {},
   "outputs": [
    {
     "name": "stdout",
     "output_type": "stream",
     "text": [
      "[[b'T' b'2' b'8' ... b'8' b'0' b'8']\n",
      " [b'I' b'5' b'1' ... b'8' b'4' b'1']\n",
      " [b'D' b'4' b'1' ... b'7' b'3' b'9']\n",
      " ...\n",
      " [b'T' b'6' b'9' ... b'1' b'2' b'4']\n",
      " [b'S' b'2' b'3' ... b'9' b'5' b'8']\n",
      " [b'A' b'4' b'9' ... b'7' b'2' b'8']]\n"
     ]
    }
   ],
   "source": [
    "\n",
    "## ------------------------------------------------------------------------\n",
    "# 列印變數名稱\n",
    "# print(header)\n",
    "# 列印各觀測值\n",
    "print(data)"
   ]
  }
 ],
 "metadata": {
  "kernelspec": {
   "display_name": "bigdata",
   "language": "python",
   "name": "python3"
  },
  "language_info": {
   "codemirror_mode": {
    "name": "ipython",
    "version": 3
   },
   "file_extension": ".py",
   "mimetype": "text/x-python",
   "name": "python",
   "nbconvert_exporter": "python",
   "pygments_lexer": "ipython3",
   "version": "3.8.18"
  }
 },
 "nbformat": 4,
 "nbformat_minor": 2
}
